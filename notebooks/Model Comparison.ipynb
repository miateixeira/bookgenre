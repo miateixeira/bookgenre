{
 "cells": [
  {
   "cell_type": "code",
   "execution_count": 1,
   "id": "74c26588",
   "metadata": {},
   "outputs": [],
   "source": [
    "import pandas as pd\n",
    "import numpy as np\n",
    "\n",
    "# Dataset URL:\n",
    "# https://www.kaggle.com/datasets/athu1105/book-genre-prediction\n",
    "\n",
    "# Read the data into dataframe\n",
    "df = pd.read_csv('../data/book_genre_dataset.csv')\n",
    "\n",
    "# Create a column with the combined title and summary\n",
    "df['combined'] = df['title'] + '. ' + df['summary']"
   ]
  },
  {
   "cell_type": "code",
   "execution_count": 2,
   "id": "0df9ae48",
   "metadata": {},
   "outputs": [],
   "source": [
    "from sklearn.base import TransformerMixin, BaseEstimator\n",
    "\n",
    "class FeatureSelector(BaseEstimator, TransformerMixin):\n",
    "    def __init__(self, variables):\n",
    "        self.variables = variables\n",
    "    def fit(self, X, y=None):\n",
    "        return self\n",
    "    def transform(self, X):\n",
    "        return X.loc[:,self.variables]"
   ]
  },
  {
   "cell_type": "code",
   "execution_count": 3,
   "id": "2a1cb06a",
   "metadata": {},
   "outputs": [],
   "source": [
    "import langdetect\n",
    "\n",
    "class LangDetection(BaseEstimator, TransformerMixin):\n",
    "    def __init__(self, lang='en'):\n",
    "        self.lang = lang\n",
    "    def fit(self, X, y=None):\n",
    "        return self\n",
    "    def transform(self, X):\n",
    "        X_ = X.copy()\n",
    "        X_['lang'] = X_.apply(lambda x: langdetect.detect(x))\n",
    "        X_lang_only = X[X_['lang'] == self.lang]\n",
    "        return X_lang_only"
   ]
  },
  {
   "cell_type": "code",
   "execution_count": 4,
   "id": "3a920b06",
   "metadata": {},
   "outputs": [],
   "source": [
    "class LowercaseTransformer(BaseEstimator, TransformerMixin):\n",
    "    def fit(self, X, y=None):\n",
    "        return self\n",
    "    def transform(self, X):\n",
    "        X_lower = X.apply(lambda x: x.lower())\n",
    "        return X_lower"
   ]
  },
  {
   "cell_type": "code",
   "execution_count": 5,
   "id": "32660bcf",
   "metadata": {},
   "outputs": [],
   "source": [
    "import re\n",
    "\n",
    "class RemovePunctuation(BaseEstimator, TransformerMixin):\n",
    "    def fit(self, X, y=None):\n",
    "        return self\n",
    "    def transform(self, X):\n",
    "        X_no_punct = X.apply(lambda x: re.sub(r'[^\\w\\s]|_', '', x))\n",
    "        return X_no_punct"
   ]
  },
  {
   "cell_type": "code",
   "execution_count": 6,
   "id": "9cbf242b",
   "metadata": {},
   "outputs": [],
   "source": [
    "class DropDataEntries(BaseEstimator, TransformerMixin):\n",
    "    def __init__(self, ids):\n",
    "        self.ids = ids\n",
    "    def fit(self, X, y=None):\n",
    "        return self\n",
    "    def transform(self, X):\n",
    "        X_ = X.copy()\n",
    "        for i in self.ids:\n",
    "            X_ = X_.drop(i)\n",
    "        return X_     "
   ]
  },
  {
   "cell_type": "code",
   "execution_count": 7,
   "id": "22a44f4c",
   "metadata": {},
   "outputs": [],
   "source": [
    "from sklearn.pipeline import Pipeline\n",
    "\n",
    "nonsense_summaries_idx = [338, 588, 834, 1574, 1772, 2410, 2485]\n",
    "\n",
    "clean_text_pipeline = Pipeline([\n",
    "    ('get_combined_text', FeatureSelector('combined')),\n",
    "    ('detect_lang', LangDetection()),\n",
    "    ('lowercase',    LowercaseTransformer()),\n",
    "    ('remove_punctuation', RemovePunctuation()),\n",
    "    ('drop_nonsense_summaries', DropDataEntries(nonsense_summaries_idx))\n",
    "])"
   ]
  },
  {
   "cell_type": "code",
   "execution_count": 8,
   "id": "d68ff282",
   "metadata": {
    "scrolled": true
   },
   "outputs": [
    {
     "data": {
      "text/html": [
       "<style>#sk-container-id-1 {color: black;background-color: white;}#sk-container-id-1 pre{padding: 0;}#sk-container-id-1 div.sk-toggleable {background-color: white;}#sk-container-id-1 label.sk-toggleable__label {cursor: pointer;display: block;width: 100%;margin-bottom: 0;padding: 0.3em;box-sizing: border-box;text-align: center;}#sk-container-id-1 label.sk-toggleable__label-arrow:before {content: \"▸\";float: left;margin-right: 0.25em;color: #696969;}#sk-container-id-1 label.sk-toggleable__label-arrow:hover:before {color: black;}#sk-container-id-1 div.sk-estimator:hover label.sk-toggleable__label-arrow:before {color: black;}#sk-container-id-1 div.sk-toggleable__content {max-height: 0;max-width: 0;overflow: hidden;text-align: left;background-color: #f0f8ff;}#sk-container-id-1 div.sk-toggleable__content pre {margin: 0.2em;color: black;border-radius: 0.25em;background-color: #f0f8ff;}#sk-container-id-1 input.sk-toggleable__control:checked~div.sk-toggleable__content {max-height: 200px;max-width: 100%;overflow: auto;}#sk-container-id-1 input.sk-toggleable__control:checked~label.sk-toggleable__label-arrow:before {content: \"▾\";}#sk-container-id-1 div.sk-estimator input.sk-toggleable__control:checked~label.sk-toggleable__label {background-color: #d4ebff;}#sk-container-id-1 div.sk-label input.sk-toggleable__control:checked~label.sk-toggleable__label {background-color: #d4ebff;}#sk-container-id-1 input.sk-hidden--visually {border: 0;clip: rect(1px 1px 1px 1px);clip: rect(1px, 1px, 1px, 1px);height: 1px;margin: -1px;overflow: hidden;padding: 0;position: absolute;width: 1px;}#sk-container-id-1 div.sk-estimator {font-family: monospace;background-color: #f0f8ff;border: 1px dotted black;border-radius: 0.25em;box-sizing: border-box;margin-bottom: 0.5em;}#sk-container-id-1 div.sk-estimator:hover {background-color: #d4ebff;}#sk-container-id-1 div.sk-parallel-item::after {content: \"\";width: 100%;border-bottom: 1px solid gray;flex-grow: 1;}#sk-container-id-1 div.sk-label:hover label.sk-toggleable__label {background-color: #d4ebff;}#sk-container-id-1 div.sk-serial::before {content: \"\";position: absolute;border-left: 1px solid gray;box-sizing: border-box;top: 0;bottom: 0;left: 50%;z-index: 0;}#sk-container-id-1 div.sk-serial {display: flex;flex-direction: column;align-items: center;background-color: white;padding-right: 0.2em;padding-left: 0.2em;position: relative;}#sk-container-id-1 div.sk-item {position: relative;z-index: 1;}#sk-container-id-1 div.sk-parallel {display: flex;align-items: stretch;justify-content: center;background-color: white;position: relative;}#sk-container-id-1 div.sk-item::before, #sk-container-id-1 div.sk-parallel-item::before {content: \"\";position: absolute;border-left: 1px solid gray;box-sizing: border-box;top: 0;bottom: 0;left: 50%;z-index: -1;}#sk-container-id-1 div.sk-parallel-item {display: flex;flex-direction: column;z-index: 1;position: relative;background-color: white;}#sk-container-id-1 div.sk-parallel-item:first-child::after {align-self: flex-end;width: 50%;}#sk-container-id-1 div.sk-parallel-item:last-child::after {align-self: flex-start;width: 50%;}#sk-container-id-1 div.sk-parallel-item:only-child::after {width: 0;}#sk-container-id-1 div.sk-dashed-wrapped {border: 1px dashed gray;margin: 0 0.4em 0.5em 0.4em;box-sizing: border-box;padding-bottom: 0.4em;background-color: white;}#sk-container-id-1 div.sk-label label {font-family: monospace;font-weight: bold;display: inline-block;line-height: 1.2em;}#sk-container-id-1 div.sk-label-container {text-align: center;}#sk-container-id-1 div.sk-container {/* jupyter's `normalize.less` sets `[hidden] { display: none; }` but bootstrap.min.css set `[hidden] { display: none !important; }` so we also need the `!important` here to be able to override the default hidden behavior on the sphinx rendered scikit-learn.org. See: https://github.com/scikit-learn/scikit-learn/issues/21755 */display: inline-block !important;position: relative;}#sk-container-id-1 div.sk-text-repr-fallback {display: none;}</style><div id=\"sk-container-id-1\" class=\"sk-top-container\"><div class=\"sk-text-repr-fallback\"><pre>Pipeline(steps=[(&#x27;get_combined_text&#x27;, FeatureSelector(variables=&#x27;combined&#x27;)),\n",
       "                (&#x27;detect_lang&#x27;, LangDetection()),\n",
       "                (&#x27;lowercase&#x27;, LowercaseTransformer()),\n",
       "                (&#x27;remove_punctuation&#x27;, RemovePunctuation()),\n",
       "                (&#x27;drop_nonsense_summaries&#x27;,\n",
       "                 DropDataEntries(ids=[338, 588, 834, 1574, 1772, 2410, 2485]))])</pre><b>In a Jupyter environment, please rerun this cell to show the HTML representation or trust the notebook. <br />On GitHub, the HTML representation is unable to render, please try loading this page with nbviewer.org.</b></div><div class=\"sk-container\" hidden><div class=\"sk-item sk-dashed-wrapped\"><div class=\"sk-label-container\"><div class=\"sk-label sk-toggleable\"><input class=\"sk-toggleable__control sk-hidden--visually\" id=\"sk-estimator-id-1\" type=\"checkbox\" ><label for=\"sk-estimator-id-1\" class=\"sk-toggleable__label sk-toggleable__label-arrow\">Pipeline</label><div class=\"sk-toggleable__content\"><pre>Pipeline(steps=[(&#x27;get_combined_text&#x27;, FeatureSelector(variables=&#x27;combined&#x27;)),\n",
       "                (&#x27;detect_lang&#x27;, LangDetection()),\n",
       "                (&#x27;lowercase&#x27;, LowercaseTransformer()),\n",
       "                (&#x27;remove_punctuation&#x27;, RemovePunctuation()),\n",
       "                (&#x27;drop_nonsense_summaries&#x27;,\n",
       "                 DropDataEntries(ids=[338, 588, 834, 1574, 1772, 2410, 2485]))])</pre></div></div></div><div class=\"sk-serial\"><div class=\"sk-item\"><div class=\"sk-estimator sk-toggleable\"><input class=\"sk-toggleable__control sk-hidden--visually\" id=\"sk-estimator-id-2\" type=\"checkbox\" ><label for=\"sk-estimator-id-2\" class=\"sk-toggleable__label sk-toggleable__label-arrow\">FeatureSelector</label><div class=\"sk-toggleable__content\"><pre>FeatureSelector(variables=&#x27;combined&#x27;)</pre></div></div></div><div class=\"sk-item\"><div class=\"sk-estimator sk-toggleable\"><input class=\"sk-toggleable__control sk-hidden--visually\" id=\"sk-estimator-id-3\" type=\"checkbox\" ><label for=\"sk-estimator-id-3\" class=\"sk-toggleable__label sk-toggleable__label-arrow\">LangDetection</label><div class=\"sk-toggleable__content\"><pre>LangDetection()</pre></div></div></div><div class=\"sk-item\"><div class=\"sk-estimator sk-toggleable\"><input class=\"sk-toggleable__control sk-hidden--visually\" id=\"sk-estimator-id-4\" type=\"checkbox\" ><label for=\"sk-estimator-id-4\" class=\"sk-toggleable__label sk-toggleable__label-arrow\">LowercaseTransformer</label><div class=\"sk-toggleable__content\"><pre>LowercaseTransformer()</pre></div></div></div><div class=\"sk-item\"><div class=\"sk-estimator sk-toggleable\"><input class=\"sk-toggleable__control sk-hidden--visually\" id=\"sk-estimator-id-5\" type=\"checkbox\" ><label for=\"sk-estimator-id-5\" class=\"sk-toggleable__label sk-toggleable__label-arrow\">RemovePunctuation</label><div class=\"sk-toggleable__content\"><pre>RemovePunctuation()</pre></div></div></div><div class=\"sk-item\"><div class=\"sk-estimator sk-toggleable\"><input class=\"sk-toggleable__control sk-hidden--visually\" id=\"sk-estimator-id-6\" type=\"checkbox\" ><label for=\"sk-estimator-id-6\" class=\"sk-toggleable__label sk-toggleable__label-arrow\">DropDataEntries</label><div class=\"sk-toggleable__content\"><pre>DropDataEntries(ids=[338, 588, 834, 1574, 1772, 2410, 2485])</pre></div></div></div></div></div></div></div>"
      ],
      "text/plain": [
       "Pipeline(steps=[('get_combined_text', FeatureSelector(variables='combined')),\n",
       "                ('detect_lang', LangDetection()),\n",
       "                ('lowercase', LowercaseTransformer()),\n",
       "                ('remove_punctuation', RemovePunctuation()),\n",
       "                ('drop_nonsense_summaries',\n",
       "                 DropDataEntries(ids=[338, 588, 834, 1574, 1772, 2410, 2485]))])"
      ]
     },
     "execution_count": 8,
     "metadata": {},
     "output_type": "execute_result"
    }
   ],
   "source": [
    "clean_text_pipeline"
   ]
  },
  {
   "cell_type": "code",
   "execution_count": 9,
   "id": "bf061d1f",
   "metadata": {},
   "outputs": [
    {
     "data": {
      "text/plain": [
       "((4657, 3), (4657,))"
      ]
     },
     "execution_count": 9,
     "metadata": {},
     "output_type": "execute_result"
    }
   ],
   "source": [
    "X_combined_clean = clean_text_pipeline.fit_transform(df)\n",
    "\n",
    "#'338' in X_combined_clean\n",
    "df.drop([i for i in range(len(df)) if i not in X_combined_clean])\n",
    "X = df[['title','summary','combined']]\n",
    "y = df['genre']\n",
    "X.shape, y.shape"
   ]
  },
  {
   "cell_type": "code",
   "execution_count": 10,
   "id": "465a342b",
   "metadata": {},
   "outputs": [
    {
     "name": "stderr",
     "output_type": "stream",
     "text": [
      "[nltk_data] Downloading package stopwords to /home/mia/nltk_data...\n",
      "[nltk_data]   Package stopwords is already up-to-date!\n"
     ]
    }
   ],
   "source": [
    "import nltk\n",
    "from nltk.corpus import stopwords\n",
    "nltk.download('stopwords')\n",
    "\n",
    "stop_words = set(stopwords.words('english'))\n",
    "\n",
    "class RemoveStopwords(BaseEstimator, TransformerMixin):\n",
    "    def __init__(self, stopwords):\n",
    "        self.stopwords = stopwords\n",
    "    def fit(self, X, y=None):\n",
    "        return self\n",
    "    def transform(self, X):\n",
    "        X_no_stopwords = X.apply(lambda x: ' '.join([w for w in x.split() if w not in self.stopwords]))\n",
    "        return X_no_stopwords"
   ]
  },
  {
   "cell_type": "code",
   "execution_count": 11,
   "id": "76a71311",
   "metadata": {},
   "outputs": [],
   "source": [
    "from nltk.stem import WordNetLemmatizer\n",
    "\n",
    "class Lemmatizer(BaseEstimator, TransformerMixin):\n",
    "    def __init__(self, lemmatizer):\n",
    "        self.lemmatizer = lemmatizer\n",
    "    def fit(self, X, y=None):\n",
    "        return self\n",
    "    def transform(self, X):\n",
    "        lemmatize_func = lambda x: ' '.join(\n",
    "            [self.lemmatizer.lemmatize(w) for w in x.split()]\n",
    "        )\n",
    "        X_lemmatized = X.apply(lemmatize_func)\n",
    "        return X_lemmatized"
   ]
  },
  {
   "cell_type": "code",
   "execution_count": 12,
   "id": "f8a70061",
   "metadata": {},
   "outputs": [],
   "source": [
    "from sklearn.feature_extraction.text import TfidfVectorizer\n",
    "from sklearn.feature_selection import SelectKBest, chi2\n",
    "from sklearn.preprocessing import StandardScaler\n",
    "from mlxtend.preprocessing import DenseTransformer\n",
    "\n",
    "preprocess_text_pipeline = Pipeline([\n",
    "    ('remove_stopwords', RemoveStopwords(stop_words)),\n",
    "    ('lemmatize', Lemmatizer(WordNetLemmatizer())),\n",
    "    ('tfidf', TfidfVectorizer()),\n",
    "    ('select_k_best', SelectKBest(k=5000))\n",
    "])"
   ]
  },
  {
   "cell_type": "code",
   "execution_count": 13,
   "id": "4e6ad3d4",
   "metadata": {},
   "outputs": [],
   "source": [
    "from sklearn.preprocessing import StandardScaler\n",
    "from mlxtend.preprocessing import DenseTransformer\n",
    "from sklearn.decomposition import PCA\n",
    "\n",
    "dim_reduction_pipeline = Pipeline([\n",
    "    ('scaler', StandardScaler(with_mean=False)),\n",
    "    ('dense', DenseTransformer()),\n",
    "    ('pca', PCA(n_components=5))\n",
    "])"
   ]
  },
  {
   "cell_type": "code",
   "execution_count": 14,
   "id": "ac280fe5",
   "metadata": {},
   "outputs": [],
   "source": [
    "from sklearn.pipeline import FeatureUnion\n",
    "\n",
    "text_pipeline = Pipeline([\n",
    "    ('select_combined', FeatureSelector('combined')),\n",
    "    ('preprocess', preprocess_text_pipeline),\n",
    "    #('dense', DenseTransformer())\n",
    "    #('dim_reduction', dim_reduction_pipeline),\n",
    "])"
   ]
  },
  {
   "cell_type": "code",
   "execution_count": 15,
   "id": "c2a3f406",
   "metadata": {},
   "outputs": [],
   "source": [
    "def stopword_count(text):\n",
    "    stopwords_in_text = [w for w in text.split() if w in stop_words]\n",
    "    return len(stopwords_in_text)"
   ]
  },
  {
   "cell_type": "code",
   "execution_count": 16,
   "id": "b8953b66",
   "metadata": {},
   "outputs": [],
   "source": [
    "class TitleSummaryFE(BaseEstimator, TransformerMixin):\n",
    "    def fit(self, X, y=None):\n",
    "        return self\n",
    "    def transform(self, X):\n",
    "        X_ = X.copy()\n",
    "        feats = pd.DataFrame()\n",
    "        feats['char_count'] = X_.apply(lambda x: len(x))\n",
    "        feats['word_count'] = X_.apply(lambda x: len(x.split()))\n",
    "        feats['avg_word_len'] = feats['char_count'] / feats['word_count']\n",
    "        feats['stopword_count'] = X_.apply(stopword_count)\n",
    "        return feats"
   ]
  },
  {
   "cell_type": "code",
   "execution_count": 17,
   "id": "09da0f4a",
   "metadata": {},
   "outputs": [],
   "source": [
    "from sklearn.preprocessing import FunctionTransformer\n",
    "\n",
    "title_features = Pipeline([\n",
    "    ('select_title', FeatureSelector('title')),\n",
    "    ('title_features', TitleSummaryFE()),\n",
    "])"
   ]
  },
  {
   "cell_type": "code",
   "execution_count": 18,
   "id": "d1a3ce8b",
   "metadata": {},
   "outputs": [],
   "source": [
    "summary_features = Pipeline([\n",
    "    ('select_summary', FeatureSelector('summary')),\n",
    "    ('summary_features', TitleSummaryFE()),\n",
    "])"
   ]
  },
  {
   "cell_type": "code",
   "execution_count": 19,
   "id": "2d8c706e",
   "metadata": {},
   "outputs": [],
   "source": [
    "from nltk.sentiment import SentimentIntensityAnalyzer\n",
    "\n",
    "class CombinedFE(BaseEstimator, TransformerMixin):\n",
    "    def fit(self, X, y=None):\n",
    "        return self\n",
    "    def transform(self, X):\n",
    "        feats = pd.DataFrame()\n",
    "        sia = SentimentIntensityAnalyzer()\n",
    "        X_ = X.copy()\n",
    "        feats['unique_word_count'] = X_.apply(lambda x: len(set(x.split())))\n",
    "        feats['unique_word_ratio'] = feats['unique_word_count'] / X_.apply(lambda x: len(x.split()))\n",
    "        feats['sentiment_score'] = X_.apply(lambda x: sia.polarity_scores(x)['compound'])\n",
    "        return feats"
   ]
  },
  {
   "cell_type": "code",
   "execution_count": 20,
   "id": "8f4ea9f6",
   "metadata": {},
   "outputs": [],
   "source": [
    "combined_features = Pipeline([\n",
    "    ('select_combined', FeatureSelector('combined')),\n",
    "    ('combined_features', CombinedFE()),\n",
    "])"
   ]
  },
  {
   "cell_type": "code",
   "execution_count": 21,
   "id": "a8d01725",
   "metadata": {},
   "outputs": [],
   "source": [
    "features = FeatureUnion([\n",
    "    ('text', text_pipeline),\n",
    "    ('title', title_features),\n",
    "    ('summary', summary_features),\n",
    "    ('combined', combined_features)\n",
    "])"
   ]
  },
  {
   "cell_type": "code",
   "execution_count": 31,
   "id": "93611f1b",
   "metadata": {},
   "outputs": [],
   "source": [
    "from sklearn.model_selection import train_test_split\n",
    "from sklearn.metrics import accuracy_score, classification_report\n",
    "\n",
    "def run_experiment(X, y, pipeline, num_expts=5):\n",
    "    scores = list()\n",
    "    for i in range(num_expts):\n",
    "        X_train, X_test, y_train, y_true = train_test_split(X, y, test_size=0.2)\n",
    "        model = pipeline.fit(X_train, y_train)\n",
    "        y_pred = model.predict(X_test)\n",
    "        score = accuracy_score(y_true, y_pred)\n",
    "        scores.append(score)\n",
    "    \n",
    "    print(f\"Average accuracy over {num_expts} experiments: {sum(scores) / num_expts} \\n\")\n",
    "    print(\"Classification report for the last experiment:\\n\")\n",
    "    print(classification_report(y_true, y_pred))"
   ]
  },
  {
   "cell_type": "code",
   "execution_count": 32,
   "id": "c3cc0b63",
   "metadata": {},
   "outputs": [],
   "source": [
    "from sklearn.svm import LinearSVC\n",
    "from sklearn.neighbors import KNeighborsClassifier\n",
    "\n",
    "def model_pipeline(model):\n",
    "    pipeline = Pipeline([\n",
    "        ('features', features),\n",
    "        ('model', model)\n",
    "    ])\n",
    "    return pipeline"
   ]
  },
  {
   "cell_type": "code",
   "execution_count": 33,
   "id": "b050e0e8",
   "metadata": {},
   "outputs": [
    {
     "name": "stdout",
     "output_type": "stream",
     "text": [
      "Average accuracy over 20 experiments: 0.6769849785407726 \n",
      "\n",
      "Classification report for the last experiment:\n",
      "\n",
      "              precision    recall  f1-score   support\n",
      "\n",
      "       crime       0.61      0.67      0.64        86\n",
      "     fantasy       0.66      0.74      0.70       183\n",
      "     history       0.64      0.65      0.65       117\n",
      "      horror       0.68      0.62      0.65       111\n",
      "  psychology       0.64      0.45      0.53        20\n",
      "     romance       0.58      0.29      0.39        24\n",
      "     science       0.64      0.74      0.69       129\n",
      "      sports       0.88      0.88      0.88        16\n",
      "    thriller       0.69      0.62      0.65       229\n",
      "      travel       0.86      0.71      0.77        17\n",
      "\n",
      "    accuracy                           0.66       932\n",
      "   macro avg       0.69      0.64      0.65       932\n",
      "weighted avg       0.66      0.66      0.66       932\n",
      "\n",
      "Average accuracy over 20 experiments: 0.21443133047210305 \n",
      "\n",
      "Classification report for the last experiment:\n",
      "\n",
      "              precision    recall  f1-score   support\n",
      "\n",
      "       crime       0.14      0.22      0.17       103\n",
      "     fantasy       0.25      0.38      0.30       176\n",
      "     history       0.20      0.15      0.17       131\n",
      "      horror       0.20      0.13      0.16       127\n",
      "  psychology       0.07      0.10      0.08        10\n",
      "     romance       0.00      0.00      0.00        15\n",
      "     science       0.16      0.11      0.13       133\n",
      "      sports       0.33      0.11      0.17        27\n",
      "    thriller       0.33      0.33      0.33       196\n",
      "      travel       0.00      0.00      0.00        14\n",
      "\n",
      "    accuracy                           0.22       932\n",
      "   macro avg       0.17      0.15      0.15       932\n",
      "weighted avg       0.22      0.22      0.21       932\n",
      "\n",
      "Average accuracy over 20 experiments: 0.4463519313304721 \n",
      "\n",
      "Classification report for the last experiment:\n",
      "\n",
      "              precision    recall  f1-score   support\n",
      "\n",
      "       crime       0.52      0.48      0.50        95\n",
      "     fantasy       0.43      0.46      0.44       190\n",
      "     history       0.41      0.39      0.40       117\n",
      "      horror       0.37      0.35      0.36       131\n",
      "  psychology       0.53      0.30      0.38        27\n",
      "     romance       0.14      0.14      0.14        22\n",
      "     science       0.44      0.46      0.45       105\n",
      "      sports       0.82      0.69      0.75        13\n",
      "    thriller       0.47      0.48      0.48       213\n",
      "      travel       0.29      0.32      0.30        19\n",
      "\n",
      "    accuracy                           0.43       932\n",
      "   macro avg       0.44      0.41      0.42       932\n",
      "weighted avg       0.43      0.43      0.43       932\n",
      "\n"
     ]
    }
   ],
   "source": [
    "from sklearn.svm import LinearSVC\n",
    "from sklearn.neighbors import KNeighborsClassifier\n",
    "from sklearn.tree import DecisionTreeClassifier\n",
    "\n",
    "svc = LinearSVC(dual=False)\n",
    "knn = KNeighborsClassifier()\n",
    "dtree = DecisionTreeClassifier()\n",
    "\n",
    "run_experiment(X, y, model_pipeline(svc), num_expts=20)\n",
    "run_experiment(X, y, model_pipeline(knn), num_expts=20)\n",
    "run_experiment(X, y, model_pipeline(dtree), num_expts=20)"
   ]
  },
  {
   "cell_type": "code",
   "execution_count": 41,
   "id": "783f12f9",
   "metadata": {},
   "outputs": [
    {
     "data": {
      "text/html": [
       "<style>#sk-container-id-4 {color: black;background-color: white;}#sk-container-id-4 pre{padding: 0;}#sk-container-id-4 div.sk-toggleable {background-color: white;}#sk-container-id-4 label.sk-toggleable__label {cursor: pointer;display: block;width: 100%;margin-bottom: 0;padding: 0.3em;box-sizing: border-box;text-align: center;}#sk-container-id-4 label.sk-toggleable__label-arrow:before {content: \"▸\";float: left;margin-right: 0.25em;color: #696969;}#sk-container-id-4 label.sk-toggleable__label-arrow:hover:before {color: black;}#sk-container-id-4 div.sk-estimator:hover label.sk-toggleable__label-arrow:before {color: black;}#sk-container-id-4 div.sk-toggleable__content {max-height: 0;max-width: 0;overflow: hidden;text-align: left;background-color: #f0f8ff;}#sk-container-id-4 div.sk-toggleable__content pre {margin: 0.2em;color: black;border-radius: 0.25em;background-color: #f0f8ff;}#sk-container-id-4 input.sk-toggleable__control:checked~div.sk-toggleable__content {max-height: 200px;max-width: 100%;overflow: auto;}#sk-container-id-4 input.sk-toggleable__control:checked~label.sk-toggleable__label-arrow:before {content: \"▾\";}#sk-container-id-4 div.sk-estimator input.sk-toggleable__control:checked~label.sk-toggleable__label {background-color: #d4ebff;}#sk-container-id-4 div.sk-label input.sk-toggleable__control:checked~label.sk-toggleable__label {background-color: #d4ebff;}#sk-container-id-4 input.sk-hidden--visually {border: 0;clip: rect(1px 1px 1px 1px);clip: rect(1px, 1px, 1px, 1px);height: 1px;margin: -1px;overflow: hidden;padding: 0;position: absolute;width: 1px;}#sk-container-id-4 div.sk-estimator {font-family: monospace;background-color: #f0f8ff;border: 1px dotted black;border-radius: 0.25em;box-sizing: border-box;margin-bottom: 0.5em;}#sk-container-id-4 div.sk-estimator:hover {background-color: #d4ebff;}#sk-container-id-4 div.sk-parallel-item::after {content: \"\";width: 100%;border-bottom: 1px solid gray;flex-grow: 1;}#sk-container-id-4 div.sk-label:hover label.sk-toggleable__label {background-color: #d4ebff;}#sk-container-id-4 div.sk-serial::before {content: \"\";position: absolute;border-left: 1px solid gray;box-sizing: border-box;top: 0;bottom: 0;left: 50%;z-index: 0;}#sk-container-id-4 div.sk-serial {display: flex;flex-direction: column;align-items: center;background-color: white;padding-right: 0.2em;padding-left: 0.2em;position: relative;}#sk-container-id-4 div.sk-item {position: relative;z-index: 1;}#sk-container-id-4 div.sk-parallel {display: flex;align-items: stretch;justify-content: center;background-color: white;position: relative;}#sk-container-id-4 div.sk-item::before, #sk-container-id-4 div.sk-parallel-item::before {content: \"\";position: absolute;border-left: 1px solid gray;box-sizing: border-box;top: 0;bottom: 0;left: 50%;z-index: -1;}#sk-container-id-4 div.sk-parallel-item {display: flex;flex-direction: column;z-index: 1;position: relative;background-color: white;}#sk-container-id-4 div.sk-parallel-item:first-child::after {align-self: flex-end;width: 50%;}#sk-container-id-4 div.sk-parallel-item:last-child::after {align-self: flex-start;width: 50%;}#sk-container-id-4 div.sk-parallel-item:only-child::after {width: 0;}#sk-container-id-4 div.sk-dashed-wrapped {border: 1px dashed gray;margin: 0 0.4em 0.5em 0.4em;box-sizing: border-box;padding-bottom: 0.4em;background-color: white;}#sk-container-id-4 div.sk-label label {font-family: monospace;font-weight: bold;display: inline-block;line-height: 1.2em;}#sk-container-id-4 div.sk-label-container {text-align: center;}#sk-container-id-4 div.sk-container {/* jupyter's `normalize.less` sets `[hidden] { display: none; }` but bootstrap.min.css set `[hidden] { display: none !important; }` so we also need the `!important` here to be able to override the default hidden behavior on the sphinx rendered scikit-learn.org. See: https://github.com/scikit-learn/scikit-learn/issues/21755 */display: inline-block !important;position: relative;}#sk-container-id-4 div.sk-text-repr-fallback {display: none;}</style><div id=\"sk-container-id-4\" class=\"sk-top-container\"><div class=\"sk-text-repr-fallback\"><pre>Pipeline(steps=[(&#x27;features&#x27;,\n",
       "                 FeatureUnion(transformer_list=[(&#x27;text&#x27;,\n",
       "                                                 Pipeline(steps=[(&#x27;select_combined&#x27;,\n",
       "                                                                  FeatureSelector(variables=&#x27;combined&#x27;)),\n",
       "                                                                 (&#x27;preprocess&#x27;,\n",
       "                                                                  Pipeline(steps=[(&#x27;remove_stopwords&#x27;,\n",
       "                                                                                   RemoveStopwords(stopwords={&#x27;a&#x27;,\n",
       "                                                                                                              &#x27;about&#x27;,\n",
       "                                                                                                              &#x27;above&#x27;,\n",
       "                                                                                                              &#x27;after&#x27;,\n",
       "                                                                                                              &#x27;again&#x27;,\n",
       "                                                                                                              &#x27;against&#x27;,\n",
       "                                                                                                              &#x27;ain&#x27;,\n",
       "                                                                                                              &#x27;all&#x27;,\n",
       "                                                                                                              &#x27;am&#x27;,\n",
       "                                                                                                              &#x27;an&#x27;,\n",
       "                                                                                                              &#x27;and&#x27;,\n",
       "                                                                                                              &#x27;any&#x27;,\n",
       "                                                                                                              &#x27;are&#x27;,\n",
       "                                                                                                              &#x27;aren&#x27;,\n",
       "                                                                                                              &quot;aren&#x27;t&quot;,\n",
       "                                                                                                              &#x27;as&#x27;,\n",
       "                                                                                                              &#x27;at&#x27;,\n",
       "                                                                                                              &#x27;be&#x27;,\n",
       "                                                                                                              &#x27;because&#x27;,\n",
       "                                                                                                              &#x27;been...\n",
       "                                                                  FeatureSelector(variables=&#x27;title&#x27;)),\n",
       "                                                                 (&#x27;title_features&#x27;,\n",
       "                                                                  TitleSummaryFE())])),\n",
       "                                                (&#x27;summary&#x27;,\n",
       "                                                 Pipeline(steps=[(&#x27;select_summary&#x27;,\n",
       "                                                                  FeatureSelector(variables=&#x27;summary&#x27;)),\n",
       "                                                                 (&#x27;summary_features&#x27;,\n",
       "                                                                  TitleSummaryFE())])),\n",
       "                                                (&#x27;combined&#x27;,\n",
       "                                                 Pipeline(steps=[(&#x27;select_combined&#x27;,\n",
       "                                                                  FeatureSelector(variables=&#x27;combined&#x27;)),\n",
       "                                                                 (&#x27;combined_features&#x27;,\n",
       "                                                                  CombinedFE())]))])),\n",
       "                (&#x27;svc&#x27;, LinearSVC(dual=False))])</pre><b>In a Jupyter environment, please rerun this cell to show the HTML representation or trust the notebook. <br />On GitHub, the HTML representation is unable to render, please try loading this page with nbviewer.org.</b></div><div class=\"sk-container\" hidden><div class=\"sk-item sk-dashed-wrapped\"><div class=\"sk-label-container\"><div class=\"sk-label sk-toggleable\"><input class=\"sk-toggleable__control sk-hidden--visually\" id=\"sk-estimator-id-37\" type=\"checkbox\" ><label for=\"sk-estimator-id-37\" class=\"sk-toggleable__label sk-toggleable__label-arrow\">Pipeline</label><div class=\"sk-toggleable__content\"><pre>Pipeline(steps=[(&#x27;features&#x27;,\n",
       "                 FeatureUnion(transformer_list=[(&#x27;text&#x27;,\n",
       "                                                 Pipeline(steps=[(&#x27;select_combined&#x27;,\n",
       "                                                                  FeatureSelector(variables=&#x27;combined&#x27;)),\n",
       "                                                                 (&#x27;preprocess&#x27;,\n",
       "                                                                  Pipeline(steps=[(&#x27;remove_stopwords&#x27;,\n",
       "                                                                                   RemoveStopwords(stopwords={&#x27;a&#x27;,\n",
       "                                                                                                              &#x27;about&#x27;,\n",
       "                                                                                                              &#x27;above&#x27;,\n",
       "                                                                                                              &#x27;after&#x27;,\n",
       "                                                                                                              &#x27;again&#x27;,\n",
       "                                                                                                              &#x27;against&#x27;,\n",
       "                                                                                                              &#x27;ain&#x27;,\n",
       "                                                                                                              &#x27;all&#x27;,\n",
       "                                                                                                              &#x27;am&#x27;,\n",
       "                                                                                                              &#x27;an&#x27;,\n",
       "                                                                                                              &#x27;and&#x27;,\n",
       "                                                                                                              &#x27;any&#x27;,\n",
       "                                                                                                              &#x27;are&#x27;,\n",
       "                                                                                                              &#x27;aren&#x27;,\n",
       "                                                                                                              &quot;aren&#x27;t&quot;,\n",
       "                                                                                                              &#x27;as&#x27;,\n",
       "                                                                                                              &#x27;at&#x27;,\n",
       "                                                                                                              &#x27;be&#x27;,\n",
       "                                                                                                              &#x27;because&#x27;,\n",
       "                                                                                                              &#x27;been...\n",
       "                                                                  FeatureSelector(variables=&#x27;title&#x27;)),\n",
       "                                                                 (&#x27;title_features&#x27;,\n",
       "                                                                  TitleSummaryFE())])),\n",
       "                                                (&#x27;summary&#x27;,\n",
       "                                                 Pipeline(steps=[(&#x27;select_summary&#x27;,\n",
       "                                                                  FeatureSelector(variables=&#x27;summary&#x27;)),\n",
       "                                                                 (&#x27;summary_features&#x27;,\n",
       "                                                                  TitleSummaryFE())])),\n",
       "                                                (&#x27;combined&#x27;,\n",
       "                                                 Pipeline(steps=[(&#x27;select_combined&#x27;,\n",
       "                                                                  FeatureSelector(variables=&#x27;combined&#x27;)),\n",
       "                                                                 (&#x27;combined_features&#x27;,\n",
       "                                                                  CombinedFE())]))])),\n",
       "                (&#x27;svc&#x27;, LinearSVC(dual=False))])</pre></div></div></div><div class=\"sk-serial\"><div class=\"sk-item sk-dashed-wrapped\"><div class=\"sk-label-container\"><div class=\"sk-label sk-toggleable\"><input class=\"sk-toggleable__control sk-hidden--visually\" id=\"sk-estimator-id-38\" type=\"checkbox\" ><label for=\"sk-estimator-id-38\" class=\"sk-toggleable__label sk-toggleable__label-arrow\">features: FeatureUnion</label><div class=\"sk-toggleable__content\"><pre>FeatureUnion(transformer_list=[(&#x27;text&#x27;,\n",
       "                                Pipeline(steps=[(&#x27;select_combined&#x27;,\n",
       "                                                 FeatureSelector(variables=&#x27;combined&#x27;)),\n",
       "                                                (&#x27;preprocess&#x27;,\n",
       "                                                 Pipeline(steps=[(&#x27;remove_stopwords&#x27;,\n",
       "                                                                  RemoveStopwords(stopwords={&#x27;a&#x27;,\n",
       "                                                                                             &#x27;about&#x27;,\n",
       "                                                                                             &#x27;above&#x27;,\n",
       "                                                                                             &#x27;after&#x27;,\n",
       "                                                                                             &#x27;again&#x27;,\n",
       "                                                                                             &#x27;against&#x27;,\n",
       "                                                                                             &#x27;ain&#x27;,\n",
       "                                                                                             &#x27;all&#x27;,\n",
       "                                                                                             &#x27;am&#x27;,\n",
       "                                                                                             &#x27;an&#x27;,\n",
       "                                                                                             &#x27;and&#x27;,\n",
       "                                                                                             &#x27;any&#x27;,\n",
       "                                                                                             &#x27;are&#x27;,\n",
       "                                                                                             &#x27;aren&#x27;,\n",
       "                                                                                             &quot;aren&#x27;t&quot;,\n",
       "                                                                                             &#x27;as&#x27;,\n",
       "                                                                                             &#x27;at&#x27;,\n",
       "                                                                                             &#x27;be&#x27;,\n",
       "                                                                                             &#x27;because&#x27;,\n",
       "                                                                                             &#x27;been&#x27;,\n",
       "                                                                                             &#x27;before&#x27;,\n",
       "                                                                                             &#x27;being&#x27;,\n",
       "                                                                                             &#x27;below&#x27;,\n",
       "                                                                                             &#x27;...\n",
       "                                Pipeline(steps=[(&#x27;select_title&#x27;,\n",
       "                                                 FeatureSelector(variables=&#x27;title&#x27;)),\n",
       "                                                (&#x27;title_features&#x27;,\n",
       "                                                 TitleSummaryFE())])),\n",
       "                               (&#x27;summary&#x27;,\n",
       "                                Pipeline(steps=[(&#x27;select_summary&#x27;,\n",
       "                                                 FeatureSelector(variables=&#x27;summary&#x27;)),\n",
       "                                                (&#x27;summary_features&#x27;,\n",
       "                                                 TitleSummaryFE())])),\n",
       "                               (&#x27;combined&#x27;,\n",
       "                                Pipeline(steps=[(&#x27;select_combined&#x27;,\n",
       "                                                 FeatureSelector(variables=&#x27;combined&#x27;)),\n",
       "                                                (&#x27;combined_features&#x27;,\n",
       "                                                 CombinedFE())]))])</pre></div></div></div><div class=\"sk-parallel\"><div class=\"sk-parallel-item\"><div class=\"sk-item\"><div class=\"sk-label-container\"><div class=\"sk-label sk-toggleable\"><label>text</label></div></div><div class=\"sk-serial\"><div class=\"sk-item\"><div class=\"sk-serial\"><div class=\"sk-item\"><div class=\"sk-estimator sk-toggleable\"><input class=\"sk-toggleable__control sk-hidden--visually\" id=\"sk-estimator-id-39\" type=\"checkbox\" ><label for=\"sk-estimator-id-39\" class=\"sk-toggleable__label sk-toggleable__label-arrow\">FeatureSelector</label><div class=\"sk-toggleable__content\"><pre>FeatureSelector(variables=&#x27;combined&#x27;)</pre></div></div></div><div class=\"sk-item\"><div class=\"sk-label-container\"><div class=\"sk-label sk-toggleable\"><input class=\"sk-toggleable__control sk-hidden--visually\" id=\"sk-estimator-id-40\" type=\"checkbox\" ><label for=\"sk-estimator-id-40\" class=\"sk-toggleable__label sk-toggleable__label-arrow\">preprocess: Pipeline</label><div class=\"sk-toggleable__content\"><pre>Pipeline(steps=[(&#x27;remove_stopwords&#x27;,\n",
       "                 RemoveStopwords(stopwords={&#x27;a&#x27;, &#x27;about&#x27;, &#x27;above&#x27;, &#x27;after&#x27;,\n",
       "                                            &#x27;again&#x27;, &#x27;against&#x27;, &#x27;ain&#x27;, &#x27;all&#x27;,\n",
       "                                            &#x27;am&#x27;, &#x27;an&#x27;, &#x27;and&#x27;, &#x27;any&#x27;, &#x27;are&#x27;,\n",
       "                                            &#x27;aren&#x27;, &quot;aren&#x27;t&quot;, &#x27;as&#x27;, &#x27;at&#x27;, &#x27;be&#x27;,\n",
       "                                            &#x27;because&#x27;, &#x27;been&#x27;, &#x27;before&#x27;,\n",
       "                                            &#x27;being&#x27;, &#x27;below&#x27;, &#x27;between&#x27;, &#x27;both&#x27;,\n",
       "                                            &#x27;but&#x27;, &#x27;by&#x27;, &#x27;can&#x27;, &#x27;couldn&#x27;,\n",
       "                                            &quot;couldn&#x27;t&quot;, ...})),\n",
       "                (&#x27;lemmatize&#x27;, Lemmatizer(lemmatizer=&lt;WordNetLemmatizer&gt;)),\n",
       "                (&#x27;tfidf&#x27;, TfidfVectorizer()),\n",
       "                (&#x27;select_k_best&#x27;, SelectKBest(k=5000))])</pre></div></div></div><div class=\"sk-serial\"><div class=\"sk-item\"><div class=\"sk-estimator sk-toggleable\"><input class=\"sk-toggleable__control sk-hidden--visually\" id=\"sk-estimator-id-41\" type=\"checkbox\" ><label for=\"sk-estimator-id-41\" class=\"sk-toggleable__label sk-toggleable__label-arrow\">RemoveStopwords</label><div class=\"sk-toggleable__content\"><pre>RemoveStopwords(stopwords={&#x27;a&#x27;, &#x27;about&#x27;, &#x27;above&#x27;, &#x27;after&#x27;, &#x27;again&#x27;, &#x27;against&#x27;,\n",
       "                           &#x27;ain&#x27;, &#x27;all&#x27;, &#x27;am&#x27;, &#x27;an&#x27;, &#x27;and&#x27;, &#x27;any&#x27;, &#x27;are&#x27;,\n",
       "                           &#x27;aren&#x27;, &quot;aren&#x27;t&quot;, &#x27;as&#x27;, &#x27;at&#x27;, &#x27;be&#x27;, &#x27;because&#x27;,\n",
       "                           &#x27;been&#x27;, &#x27;before&#x27;, &#x27;being&#x27;, &#x27;below&#x27;, &#x27;between&#x27;,\n",
       "                           &#x27;both&#x27;, &#x27;but&#x27;, &#x27;by&#x27;, &#x27;can&#x27;, &#x27;couldn&#x27;, &quot;couldn&#x27;t&quot;, ...})</pre></div></div></div><div class=\"sk-item\"><div class=\"sk-estimator sk-toggleable\"><input class=\"sk-toggleable__control sk-hidden--visually\" id=\"sk-estimator-id-42\" type=\"checkbox\" ><label for=\"sk-estimator-id-42\" class=\"sk-toggleable__label sk-toggleable__label-arrow\">Lemmatizer</label><div class=\"sk-toggleable__content\"><pre>Lemmatizer(lemmatizer=&lt;WordNetLemmatizer&gt;)</pre></div></div></div><div class=\"sk-item\"><div class=\"sk-estimator sk-toggleable\"><input class=\"sk-toggleable__control sk-hidden--visually\" id=\"sk-estimator-id-43\" type=\"checkbox\" ><label for=\"sk-estimator-id-43\" class=\"sk-toggleable__label sk-toggleable__label-arrow\">TfidfVectorizer</label><div class=\"sk-toggleable__content\"><pre>TfidfVectorizer()</pre></div></div></div><div class=\"sk-item\"><div class=\"sk-estimator sk-toggleable\"><input class=\"sk-toggleable__control sk-hidden--visually\" id=\"sk-estimator-id-44\" type=\"checkbox\" ><label for=\"sk-estimator-id-44\" class=\"sk-toggleable__label sk-toggleable__label-arrow\">SelectKBest</label><div class=\"sk-toggleable__content\"><pre>SelectKBest(k=5000)</pre></div></div></div></div></div></div></div></div></div></div><div class=\"sk-parallel-item\"><div class=\"sk-item\"><div class=\"sk-label-container\"><div class=\"sk-label sk-toggleable\"><label>title</label></div></div><div class=\"sk-serial\"><div class=\"sk-item\"><div class=\"sk-serial\"><div class=\"sk-item\"><div class=\"sk-estimator sk-toggleable\"><input class=\"sk-toggleable__control sk-hidden--visually\" id=\"sk-estimator-id-45\" type=\"checkbox\" ><label for=\"sk-estimator-id-45\" class=\"sk-toggleable__label sk-toggleable__label-arrow\">FeatureSelector</label><div class=\"sk-toggleable__content\"><pre>FeatureSelector(variables=&#x27;title&#x27;)</pre></div></div></div><div class=\"sk-item\"><div class=\"sk-estimator sk-toggleable\"><input class=\"sk-toggleable__control sk-hidden--visually\" id=\"sk-estimator-id-46\" type=\"checkbox\" ><label for=\"sk-estimator-id-46\" class=\"sk-toggleable__label sk-toggleable__label-arrow\">TitleSummaryFE</label><div class=\"sk-toggleable__content\"><pre>TitleSummaryFE()</pre></div></div></div></div></div></div></div></div><div class=\"sk-parallel-item\"><div class=\"sk-item\"><div class=\"sk-label-container\"><div class=\"sk-label sk-toggleable\"><label>summary</label></div></div><div class=\"sk-serial\"><div class=\"sk-item\"><div class=\"sk-serial\"><div class=\"sk-item\"><div class=\"sk-estimator sk-toggleable\"><input class=\"sk-toggleable__control sk-hidden--visually\" id=\"sk-estimator-id-47\" type=\"checkbox\" ><label for=\"sk-estimator-id-47\" class=\"sk-toggleable__label sk-toggleable__label-arrow\">FeatureSelector</label><div class=\"sk-toggleable__content\"><pre>FeatureSelector(variables=&#x27;summary&#x27;)</pre></div></div></div><div class=\"sk-item\"><div class=\"sk-estimator sk-toggleable\"><input class=\"sk-toggleable__control sk-hidden--visually\" id=\"sk-estimator-id-48\" type=\"checkbox\" ><label for=\"sk-estimator-id-48\" class=\"sk-toggleable__label sk-toggleable__label-arrow\">TitleSummaryFE</label><div class=\"sk-toggleable__content\"><pre>TitleSummaryFE()</pre></div></div></div></div></div></div></div></div><div class=\"sk-parallel-item\"><div class=\"sk-item\"><div class=\"sk-label-container\"><div class=\"sk-label sk-toggleable\"><label>combined</label></div></div><div class=\"sk-serial\"><div class=\"sk-item\"><div class=\"sk-serial\"><div class=\"sk-item\"><div class=\"sk-estimator sk-toggleable\"><input class=\"sk-toggleable__control sk-hidden--visually\" id=\"sk-estimator-id-49\" type=\"checkbox\" ><label for=\"sk-estimator-id-49\" class=\"sk-toggleable__label sk-toggleable__label-arrow\">FeatureSelector</label><div class=\"sk-toggleable__content\"><pre>FeatureSelector(variables=&#x27;combined&#x27;)</pre></div></div></div><div class=\"sk-item\"><div class=\"sk-estimator sk-toggleable\"><input class=\"sk-toggleable__control sk-hidden--visually\" id=\"sk-estimator-id-50\" type=\"checkbox\" ><label for=\"sk-estimator-id-50\" class=\"sk-toggleable__label sk-toggleable__label-arrow\">CombinedFE</label><div class=\"sk-toggleable__content\"><pre>CombinedFE()</pre></div></div></div></div></div></div></div></div></div></div><div class=\"sk-item\"><div class=\"sk-estimator sk-toggleable\"><input class=\"sk-toggleable__control sk-hidden--visually\" id=\"sk-estimator-id-51\" type=\"checkbox\" ><label for=\"sk-estimator-id-51\" class=\"sk-toggleable__label sk-toggleable__label-arrow\">LinearSVC</label><div class=\"sk-toggleable__content\"><pre>LinearSVC(dual=False)</pre></div></div></div></div></div></div></div>"
      ],
      "text/plain": [
       "Pipeline(steps=[('features',\n",
       "                 FeatureUnion(transformer_list=[('text',\n",
       "                                                 Pipeline(steps=[('select_combined',\n",
       "                                                                  FeatureSelector(variables='combined')),\n",
       "                                                                 ('preprocess',\n",
       "                                                                  Pipeline(steps=[('remove_stopwords',\n",
       "                                                                                   RemoveStopwords(stopwords={'a',\n",
       "                                                                                                              'about',\n",
       "                                                                                                              'above',\n",
       "                                                                                                              'after',\n",
       "                                                                                                              'again',\n",
       "                                                                                                              'against',\n",
       "                                                                                                              'ain',\n",
       "                                                                                                              'all',\n",
       "                                                                                                              'am',\n",
       "                                                                                                              'an',\n",
       "                                                                                                              'and',\n",
       "                                                                                                              'any',\n",
       "                                                                                                              'are',\n",
       "                                                                                                              'aren',\n",
       "                                                                                                              \"aren't\",\n",
       "                                                                                                              'as',\n",
       "                                                                                                              'at',\n",
       "                                                                                                              'be',\n",
       "                                                                                                              'because',\n",
       "                                                                                                              'been...\n",
       "                                                                  FeatureSelector(variables='title')),\n",
       "                                                                 ('title_features',\n",
       "                                                                  TitleSummaryFE())])),\n",
       "                                                ('summary',\n",
       "                                                 Pipeline(steps=[('select_summary',\n",
       "                                                                  FeatureSelector(variables='summary')),\n",
       "                                                                 ('summary_features',\n",
       "                                                                  TitleSummaryFE())])),\n",
       "                                                ('combined',\n",
       "                                                 Pipeline(steps=[('select_combined',\n",
       "                                                                  FeatureSelector(variables='combined')),\n",
       "                                                                 ('combined_features',\n",
       "                                                                  CombinedFE())]))])),\n",
       "                ('svc', LinearSVC(dual=False))])"
      ]
     },
     "execution_count": 41,
     "metadata": {},
     "output_type": "execute_result"
    }
   ],
   "source": [
    "pipeline"
   ]
  },
  {
   "cell_type": "code",
   "execution_count": 279,
   "id": "7496c7be",
   "metadata": {},
   "outputs": [],
   "source": [
    "class Apply(BaseEstimator, TransformerMixin):\n",
    "    def __init__(self, fn):\n",
    "        self.fn = fn\n",
    "    def fit(self, X, y=None):\n",
    "        return self\n",
    "    def transform(self, X):\n",
    "        X_transformed = X.apply(self.fn)\n",
    "        return X_transformed"
   ]
  },
  {
   "cell_type": "code",
   "execution_count": null,
   "id": "eea61a50",
   "metadata": {},
   "outputs": [],
   "source": []
  }
 ],
 "metadata": {
  "kernelspec": {
   "display_name": "Python 3 (ipykernel)",
   "language": "python",
   "name": "python3"
  },
  "language_info": {
   "codemirror_mode": {
    "name": "ipython",
    "version": 3
   },
   "file_extension": ".py",
   "mimetype": "text/x-python",
   "name": "python",
   "nbconvert_exporter": "python",
   "pygments_lexer": "ipython3",
   "version": "3.10.8"
  }
 },
 "nbformat": 4,
 "nbformat_minor": 5
}
