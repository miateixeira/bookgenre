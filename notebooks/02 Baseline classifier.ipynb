{
 "cells": [
  {
   "cell_type": "markdown",
   "id": "3112f16b",
   "metadata": {},
   "source": [
    "# Load the preprocessed data"
   ]
  },
  {
   "cell_type": "code",
   "execution_count": 1,
   "id": "6ef2fb04",
   "metadata": {},
   "outputs": [],
   "source": [
    "import pandas as pd"
   ]
  },
  {
   "cell_type": "code",
   "execution_count": 2,
   "id": "30b1e86d",
   "metadata": {},
   "outputs": [],
   "source": [
    "df = pd.read_csv('../data/book_genre_preprocessed.csv')"
   ]
  },
  {
   "cell_type": "code",
   "execution_count": 3,
   "id": "d4216d11",
   "metadata": {},
   "outputs": [
    {
     "name": "stdout",
     "output_type": "stream",
     "text": [
      "(4640,)\n",
      "(4640,)\n"
     ]
    },
    {
     "data": {
      "text/plain": [
       "(0    drowned wednesday drowned wednesday first trus...\n",
       " 1    lost hero book open jason awakens school bus u...\n",
       " 2    eye overworld cugel easily persuaded merchant ...\n",
       " 3    magic promise book open heraldmage vanyel retu...\n",
       " 4    taran wanderer taran gurgi returned caer dallb...\n",
       " Name: combined_clean, dtype: object,\n",
       " 0    fantasy\n",
       " 1    fantasy\n",
       " 2    fantasy\n",
       " 3    fantasy\n",
       " 4    fantasy\n",
       " Name: genre, dtype: object)"
      ]
     },
     "execution_count": 3,
     "metadata": {},
     "output_type": "execute_result"
    }
   ],
   "source": [
    "# Our goal is to predict the genre (y) from the combined title\n",
    "# and summary (X)\n",
    "X = df['combined_clean']\n",
    "y = df['genre']\n",
    "print(X.shape)\n",
    "print(y.shape)\n",
    "X.head(), y.head()"
   ]
  },
  {
   "cell_type": "code",
   "execution_count": 4,
   "id": "0df58cfe",
   "metadata": {},
   "outputs": [],
   "source": [
    "from sklearn.model_selection import train_test_split\n",
    "\n",
    "X_train, X_test, y_train, y_test = train_test_split(\n",
    "    X, y, test_size=0.2, random_state=42)"
   ]
  },
  {
   "cell_type": "markdown",
   "id": "0385db85",
   "metadata": {},
   "source": [
    "# Text vectorization"
   ]
  },
  {
   "cell_type": "code",
   "execution_count": 5,
   "id": "bcbfd8e6",
   "metadata": {},
   "outputs": [
    {
     "name": "stdout",
     "output_type": "stream",
     "text": [
      "<class 'scipy.sparse._csr.csr_matrix'>\n",
      "(3712, 1324919)\n",
      "(3712, 1324919)\n"
     ]
    }
   ],
   "source": [
    "from sklearn.feature_extraction.text import CountVectorizer\n",
    "\n",
    "cv = CountVectorizer(ngram_range=(1,3))\n",
    "\n",
    "# fit transform for the training data\n",
    "X_train_feats = cv.fit_transform(X_train)\n",
    "# transform for the test data\n",
    "X_test_feats = cv.transform(X_train)\n",
    "\n",
    "print(type(X_train_feats))\n",
    "print(X_train_feats.shape)\n",
    "print(X_test_feats.shape)"
   ]
  },
  {
   "cell_type": "code",
   "execution_count": null,
   "id": "b4c1c986",
   "metadata": {},
   "outputs": [],
   "source": []
  }
 ],
 "metadata": {
  "kernelspec": {
   "display_name": "Python 3 (ipykernel)",
   "language": "python",
   "name": "python3"
  },
  "language_info": {
   "codemirror_mode": {
    "name": "ipython",
    "version": 3
   },
   "file_extension": ".py",
   "mimetype": "text/x-python",
   "name": "python",
   "nbconvert_exporter": "python",
   "pygments_lexer": "ipython3",
   "version": "3.10.2"
  }
 },
 "nbformat": 4,
 "nbformat_minor": 5
}
